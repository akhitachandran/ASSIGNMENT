{
  "nbformat": 4,
  "nbformat_minor": 0,
  "metadata": {
    "colab": {
      "provenance": [],
      "authorship_tag": "ABX9TyOiSDlTxG/gbjtz6XJDJckx"
    },
    "kernelspec": {
      "name": "python3",
      "display_name": "Python 3"
    },
    "language_info": {
      "name": "python"
    }
  },
  "cells": [
    {
      "cell_type": "code",
      "source": [
        "!pip install faker"
      ],
      "metadata": {
        "colab": {
          "base_uri": "https://localhost:8080/"
        },
        "id": "WzUW1IO9JIzk",
        "outputId": "b9f6ff13-f46c-4aea-91d3-d866f7819e6e"
      },
      "execution_count": 1,
      "outputs": [
        {
          "output_type": "stream",
          "name": "stdout",
          "text": [
            "Collecting faker\n",
            "  Downloading Faker-26.0.0-py3-none-any.whl (1.8 MB)\n",
            "\u001b[2K     \u001b[90m━━━━━━━━━━━━━━━━━━━━━━━━━━━━━━━━━━━━━━━━\u001b[0m \u001b[32m1.8/1.8 MB\u001b[0m \u001b[31m5.0 MB/s\u001b[0m eta \u001b[36m0:00:00\u001b[0m\n",
            "\u001b[?25hRequirement already satisfied: python-dateutil>=2.4 in /usr/local/lib/python3.10/dist-packages (from faker) (2.8.2)\n",
            "Requirement already satisfied: six>=1.5 in /usr/local/lib/python3.10/dist-packages (from python-dateutil>=2.4->faker) (1.16.0)\n",
            "Installing collected packages: faker\n",
            "Successfully installed faker-26.0.0\n"
          ]
        }
      ]
    },
    {
      "cell_type": "code",
      "execution_count": 2,
      "metadata": {
        "colab": {
          "base_uri": "https://localhost:8080/"
        },
        "id": "SjmBQqygIyHe",
        "outputId": "d1f43a14-c50c-4a7e-d0d9-85b29c04d537"
      },
      "outputs": [
        {
          "output_type": "stream",
          "name": "stdout",
          "text": [
            "Thomas Sanders\n",
            "9409 Shelia Gateway Suite 317\n",
            "Lisaton, FM 70239\n",
            "Term night during eye meet. Door poor even whose region front. Lot start on cover senior.\n",
            "fjohnson@example.net\n",
            "Austria\n",
            "-43.534393 121.003055\n",
            "http://blake-lopez.biz/\n"
          ]
        }
      ],
      "source": [
        "from faker import Faker\n",
        "\n",
        "fake=Faker()\n",
        "\n",
        "print(fake.name())\n",
        "\n",
        "print(fake.address())\n",
        "\n",
        "print(fake.text())\n",
        "\n",
        "print(fake.email())\n",
        "\n",
        "print(fake.country())\n",
        "\n",
        "print(fake.latitude(), fake.longitude())\n",
        "\n",
        "print(fake.url())"
      ]
    }
  ]
}