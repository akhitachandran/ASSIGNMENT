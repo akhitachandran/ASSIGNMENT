{
  "nbformat": 4,
  "nbformat_minor": 0,
  "metadata": {
    "colab": {
      "provenance": [],
      "authorship_tag": "ABX9TyO4YVS77WNNUZu7cWSECESK"
    },
    "kernelspec": {
      "name": "python3",
      "display_name": "Python 3"
    },
    "language_info": {
      "name": "python"
    }
  },
  "cells": [
    {
      "cell_type": "code",
      "source": [
        "!pip install colorama"
      ],
      "metadata": {
        "colab": {
          "base_uri": "https://localhost:8080/"
        },
        "id": "6WyMI0ugPS3c",
        "outputId": "866030ef-bef3-46ad-a081-a194843e6a4e"
      },
      "execution_count": 2,
      "outputs": [
        {
          "output_type": "stream",
          "name": "stdout",
          "text": [
            "Collecting colorama\n",
            "  Downloading colorama-0.4.6-py2.py3-none-any.whl (25 kB)\n",
            "Installing collected packages: colorama\n",
            "Successfully installed colorama-0.4.6\n"
          ]
        }
      ]
    },
    {
      "cell_type": "code",
      "execution_count": 3,
      "metadata": {
        "colab": {
          "base_uri": "https://localhost:8080/"
        },
        "id": "yoSm0gkRPHwf",
        "outputId": "7ea95428-2113-4841-80ed-9f7435790f2f"
      },
      "outputs": [
        {
          "output_type": "stream",
          "name": "stdout",
          "text": [
            "\u001b[31mHELLO\n",
            "\u001b[34mHELLO\n",
            "\u001b[32mHELLO\n",
            "\u001b[33mHELLO\n",
            "\u001b[36mHELLO\n"
          ]
        }
      ],
      "source": [
        "from colorama import Fore\n",
        "\n",
        "print(Fore.RED+\"HELLO\")\n",
        "print(Fore.BLUE+\"HELLO\")\n",
        "print(Fore.GREEN+\"HELLO\")\n",
        "print(Fore.YELLOW+\"HELLO\")\n",
        "print(Fore.CYAN+\"HELLO\")"
      ]
    }
  ]
}