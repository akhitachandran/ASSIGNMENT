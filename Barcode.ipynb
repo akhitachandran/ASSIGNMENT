{
  "nbformat": 4,
  "nbformat_minor": 0,
  "metadata": {
    "colab": {
      "provenance": [],
      "authorship_tag": "ABX9TyOo/syaVLAGJ9TrGgqYTJSZ"
    },
    "kernelspec": {
      "name": "python3",
      "display_name": "Python 3"
    },
    "language_info": {
      "name": "python"
    }
  },
  "cells": [
    {
      "cell_type": "code",
      "execution_count": 7,
      "metadata": {
        "id": "GQ18Kd5F3uKe",
        "colab": {
          "base_uri": "https://localhost:8080/"
        },
        "outputId": "17d17d07-f338-4c4d-b719-8e7b021eb008"
      },
      "outputs": [
        {
          "output_type": "stream",
          "name": "stdout",
          "text": [
            "Collecting python-barcode\n",
            "  Downloading python_barcode-0.15.1-py3-none-any.whl (212 kB)\n",
            "\u001b[2K     \u001b[90m━━━━━━━━━━━━━━━━━━━━━━━━━━━━━━━━━━━━━━━━\u001b[0m \u001b[32m213.0/213.0 kB\u001b[0m \u001b[31m1.5 MB/s\u001b[0m eta \u001b[36m0:00:00\u001b[0m\n",
            "\u001b[?25hInstalling collected packages: python-barcode\n",
            "Successfully installed python-barcode-0.15.1\n"
          ]
        }
      ],
      "source": [
        "!pip install python-barcode"
      ]
    },
    {
      "cell_type": "code",
      "execution_count": 8,
      "metadata": {
        "id": "CxgOVn6f-Am6",
        "outputId": "f3c315b6-7a48-48d1-89a3-43099d3cabf2",
        "colab": {
          "base_uri": "https://localhost:8080/"
        }
      },
      "outputs": [
        {
          "output_type": "stream",
          "name": "stdout",
          "text": [
            "Barcode generated\n"
          ]
        }
      ],
      "source": [
        "import barcode\n",
        "from barcode import Code128\n",
        "\n",
        "def generate_barcode(data):\n",
        "   code=Code128(data)\n",
        "   code.save(\"barcode\")\n",
        "   print(\"Barcode generated\")\n",
        "\n",
        "data=\"1234-5678-9023\"\n",
        "generate_barcode(data)"
      ]
    },
    {
      "cell_type": "code",
      "source": [],
      "metadata": {
        "id": "v2DBSzVZEEci"
      },
      "execution_count": null,
      "outputs": []
    }
  ]
}