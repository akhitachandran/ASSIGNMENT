{
  "nbformat": 4,
  "nbformat_minor": 0,
  "metadata": {
    "colab": {
      "provenance": [],
      "authorship_tag": "ABX9TyN8b4qZMt7rGgqQFoUGKgde"
    },
    "kernelspec": {
      "name": "python3",
      "display_name": "Python 3"
    },
    "language_info": {
      "name": "python"
    }
  },
  "cells": [
    {
      "cell_type": "code",
      "execution_count": 1,
      "metadata": {
        "colab": {
          "base_uri": "https://localhost:8080/"
        },
        "id": "EmiKs0vBdotY",
        "outputId": "8771dc26-5d64-49f0-ee7e-91fa46abf4be"
      },
      "outputs": [
        {
          "output_type": "stream",
          "name": "stdout",
          "text": [
            "enter your word: tommorow\n",
            "Wrong words:  ['tommorow']\n",
            "Corrected Words are: \n",
            "tomorrow "
          ]
        }
      ],
      "source": [
        "from textblob import TextBlob\n",
        "def Convert(string):\n",
        "   li=list(string.split())\n",
        "   return li\n",
        "str1=input(\"enter your word: \")\n",
        "words=Convert(str1)\n",
        "corrected_words=[]\n",
        "for i in words:\n",
        "    corrected_words.append(TextBlob(i))\n",
        "print(\"Wrong words: \",words)\n",
        "print(\"Corrected Words are: \")\n",
        "for i in corrected_words:\n",
        "    print(i.correct(),end=\" \")"
      ]
    }
  ]
}